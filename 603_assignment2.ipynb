{
  "nbformat": 4,
  "nbformat_minor": 0,
  "metadata": {
    "colab": {
      "provenance": []
    },
    "kernelspec": {
      "name": "python3",
      "display_name": "Python 3"
    },
    "language_info": {
      "name": "python"
    }
  },
  "cells": [
    {
      "cell_type": "code",
      "execution_count": 3,
      "metadata": {
        "id": "zG5BUdtH0hjm"
      },
      "outputs": [],
      "source": [
        "import numpy as np\n",
        "import math"
      ]
    },
    {
      "cell_type": "code",
      "source": [
        "def func(x):\n",
        "  x1,x2 = x[0],x[1]\n",
        "  f_x = 2*math.exp(x1)*x2 + 3*x1*x2**2\n",
        "  return f_x"
      ],
      "metadata": {
        "id": "SEKTRqMW0vdA"
      },
      "execution_count": 6,
      "outputs": []
    },
    {
      "cell_type": "code",
      "source": [
        "### Defning Variables\n",
        "\n",
        "h = 0.001\n",
        "del_x1 = 0.001\n",
        "del_x2 = 0.001"
      ],
      "metadata": {
        "id": "PRvyInd31Yf6"
      },
      "execution_count": 4,
      "outputs": []
    },
    {
      "cell_type": "code",
      "source": [
        "### Very important pass x_input as an numpy array since ive not explicitly converted it into an numpy array inside the function\n",
        "def compute_gradient(func,x_input,h = 0.001):\n",
        "    \n",
        "    grad_x1 = (func(x_input+h*np.array([1,0]).T)-func(x_input-h*np.array([1,0]).T) )/(2*h)\n",
        "    grad_x2 = (func(x_input+h*np.array([0,1]).T)-func(x_input-h*np.array([0,1]).T) )/(2*h)\n",
        "    grad = [grad_x1,grad_x2]\n",
        "    return grad\n",
        "\n",
        "    "
      ],
      "metadata": {
        "id": "q6ufVXqp1tgo"
      },
      "execution_count": 20,
      "outputs": []
    },
    {
      "cell_type": "code",
      "source": [
        "def compute_hessian(func,x_input,del_x1 = 0.01,del_x2 = 0.001):\n",
        "    grad = np.array([[0]*x_input.shape[0] for _ in range(x_input.shape[0])])\n",
        "    \n",
        "    grad[0,0] = (func(x_input+np.array([del_x1,0]).T)- 2*func(x_input) + func(x_input-np.array([del_x1,0]).T))/del_x1**2\n",
        "    grad[1,1] = (func(x_input+np.array([0,del_x2]).T)- 2*func(x_input) + func(x_input-np.array([0,del_x2]).T))/del_x2**2\n",
        "\n",
        "    A = func(x_input + np.array([del_x1,del_x2]).T)\n",
        "    B = func(x_input - np.array([del_x1,del_x2]).T)\n",
        "    C = func(x_input + np.array([-del_x1,del_x2]).T)\n",
        "    D = func(x_input + np.array([del_x1,-del_x2]).T)\n",
        "\n",
        "    grad[0,1] = (A+B-C-D)/(4*del_x1*del_x2)\n",
        "\n",
        "    grad[1,0] = grad[0,1]\n",
        "\n",
        "    return grad\n"
      ],
      "metadata": {
        "id": "5BBT_ou13-6G"
      },
      "execution_count": 23,
      "outputs": []
    },
    {
      "cell_type": "code",
      "source": [
        "## Testing out both the functions\n",
        "print(compute_gradient(func,np.array([1,1]).T))\n",
        "print(compute_hessian(func,np.array([1,1]).T))"
      ],
      "metadata": {
        "colab": {
          "base_uri": "https://localhost:8080/"
        },
        "id": "r6WNj6By8BhK",
        "outputId": "b59f1b46-945a-44d9-ff06-037d98dc117c"
      },
      "execution_count": 25,
      "outputs": [
        {
          "output_type": "stream",
          "name": "stdout",
          "text": [
            "[8.436564563011117, 11.436563656917365]\n",
            "[[ 5 11]\n",
            " [11  6]]\n"
          ]
        }
      ]
    },
    {
      "cell_type": "code",
      "source": [],
      "metadata": {
        "id": "_Sq5qv-AA5Pz"
      },
      "execution_count": null,
      "outputs": []
    }
  ]
}